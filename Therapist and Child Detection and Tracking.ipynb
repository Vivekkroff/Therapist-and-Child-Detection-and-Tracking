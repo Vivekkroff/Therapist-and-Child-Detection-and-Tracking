{
 "cells": [
  {
   "cell_type": "markdown",
   "id": "f0b1d20a-2c2b-47ce-a386-392fd66997cd",
   "metadata": {},
   "source": [
    "# Therapist and Child Detection and Tracking"
   ]
  },
  {
   "cell_type": "markdown",
   "id": "b4bfbc80-51a5-4cce-8a22-8aa0caf7b10e",
   "metadata": {},
   "source": [
    "# Import necessary libraries"
   ]
  },
  {
   "cell_type": "code",
   "execution_count": 1,
   "id": "abecacfd-5916-4a01-b9eb-af735081c6a6",
   "metadata": {},
   "outputs": [
    {
     "name": "stdout",
     "output_type": "stream",
     "text": [
      "WARNING:tensorflow:From C:\\Users\\Vivek\\AppData\\Local\\Programs\\Python\\Python312\\Lib\\site-packages\\tf_keras\\src\\losses.py:2976: The name tf.losses.sparse_softmax_cross_entropy is deprecated. Please use tf.compat.v1.losses.sparse_softmax_cross_entropy instead.\n",
      "\n"
     ]
    }
   ],
   "source": [
    "import cv2\n",
    "import numpy as np\n",
    "import tensorflow as tf\n",
    "import tensorflow_hub as hub\n"
   ]
  },
  {
   "cell_type": "code",
   "execution_count": 2,
   "id": "0e9c9b29-a99b-46d6-bab3-04c4e8356367",
   "metadata": {},
   "outputs": [
    {
     "name": "stdout",
     "output_type": "stream",
     "text": [
      "WARNING:tensorflow:From C:\\Users\\Vivek\\AppData\\Local\\Programs\\Python\\Python312\\Lib\\site-packages\\tensorflow_hub\\resolver.py:120: The name tf.gfile.MakeDirs is deprecated. Please use tf.io.gfile.makedirs instead.\n",
      "\n"
     ]
    },
    {
     "name": "stderr",
     "output_type": "stream",
     "text": [
      "WARNING:tensorflow:From C:\\Users\\Vivek\\AppData\\Local\\Programs\\Python\\Python312\\Lib\\site-packages\\tensorflow_hub\\resolver.py:120: The name tf.gfile.MakeDirs is deprecated. Please use tf.io.gfile.makedirs instead.\n",
      "\n"
     ]
    },
    {
     "name": "stdout",
     "output_type": "stream",
     "text": [
      "WARNING:tensorflow:From C:\\Users\\Vivek\\AppData\\Local\\Programs\\Python\\Python312\\Lib\\site-packages\\tensorflow_hub\\module_v2.py:126: The name tf.saved_model.load_v2 is deprecated. Please use tf.compat.v2.saved_model.load instead.\n",
      "\n"
     ]
    },
    {
     "name": "stderr",
     "output_type": "stream",
     "text": [
      "WARNING:tensorflow:From C:\\Users\\Vivek\\AppData\\Local\\Programs\\Python\\Python312\\Lib\\site-packages\\tensorflow_hub\\module_v2.py:126: The name tf.saved_model.load_v2 is deprecated. Please use tf.compat.v2.saved_model.load instead.\n",
      "\n"
     ]
    }
   ],
   "source": [
    "# Load the pre-trained SSD MobileNet model from TensorFlow Hub\n",
    "model = hub.load(\"https://tfhub.dev/tensorflow/ssd_mobilenet_v2/2\")"
   ]
  },
  {
   "cell_type": "code",
   "execution_count": 3,
   "id": "eca492fc-e2ce-47c8-b75e-be95c7d2ac2f",
   "metadata": {},
   "outputs": [],
   "source": [
    "# Define a simple category index for person detection\n",
    "category_index = {1: 'person'}\n"
   ]
  },
  {
   "cell_type": "code",
   "execution_count": 4,
   "id": "fcc05246-8aed-4c4a-bd79-6023cb4147e0",
   "metadata": {},
   "outputs": [],
   "source": [
    "def detect_objects(frame):\n",
    "    # Convert frame to tensor\n",
    "    input_tensor = tf.convert_to_tensor(frame)\n",
    "    input_tensor = input_tensor[tf.newaxis, ...]\n",
    "    \n",
    "    # Run detection\n",
    "    detections = model(input_tensor)\n",
    "    \n",
    "    return detections\n",
    "\n",
    "def draw_boxes(frame, detections):\n",
    "    for i in range(len(detections['detection_boxes'][0])):\n",
    "        if detections['detection_scores'][0][i].numpy() > 0.5:\n",
    "            box = detections['detection_boxes'][0][i].numpy()\n",
    "            (startY, startX, endY, endX) = box\n",
    "            startX = int(startX * frame.shape[1])\n",
    "            startY = int(startY * frame.shape[0])\n",
    "            endX = int(endX * frame.shape[1])\n",
    "            endY = int(endY * frame.shape[0])\n",
    "\n",
    "            cv2.rectangle(frame, (startX, startY), (endX, endY), (0, 255, 0), 2)\n",
    "            label = category_index[1] + \": \" + str(round(detections['detection_scores'][0][i].numpy(), 2))\n",
    "            cv2.putText(frame, label, (startX, startY-10), cv2.FONT_HERSHEY_SIMPLEX, 0.5, (0, 255, 0), 2)\n",
    "\n",
    "    return frame\n",
    "\n",
    "def process_video(input_video_path, output_video_path):\n",
    "    cap = cv2.VideoCapture(input_video_path)\n",
    "    fourcc = cv2.VideoWriter_fourcc(*'XVID')\n",
    "    out = cv2.VideoWriter(output_video_path, fourcc, 30.0, (int(cap.get(3)), int(cap.get(4))))\n",
    "\n",
    "    while cap.isOpened():\n",
    "        ret, frame = cap.read()\n",
    "        if not ret:\n",
    "            break\n",
    "\n",
    "        detections = detect_objects(frame)\n",
    "        frame = draw_boxes(frame, detections)\n",
    "\n",
    "        out.write(frame)\n",
    "        cv2.imshow('frame', frame)\n",
    "        if cv2.waitKey(1) & 0xFF == ord('q'):\n",
    "            break\n",
    "\n",
    "    cap.release()\n",
    "    out.release()\n",
    "    cv2.destroyAllWindows()\n"
   ]
  },
  {
   "cell_type": "code",
   "execution_count": 5,
   "id": "7d71b5dc-4f27-4985-a4bf-8e630bb00d72",
   "metadata": {},
   "outputs": [],
   "source": [
    "# Process the downloaded video\n",
    "input_video_path = 'test_video.mp4'  \n",
    "output_video_path = 'output_video.avi'  \n",
    "process_video(input_video_path, output_video_path)"
   ]
  },
  {
   "cell_type": "code",
   "execution_count": 6,
   "id": "5da7e5da-55f6-4383-a3be-63c0e939170a",
   "metadata": {},
   "outputs": [],
   "source": [
    "def detect_objects(frame):\n",
    "    # Convert frame to tensor\n",
    "    input_tensor = tf.convert_to_tensor(frame)\n",
    "    input_tensor = input_tensor[tf.newaxis, ...]\n",
    "    \n",
    "    # Run detection\n",
    "    detections = model(input_tensor)\n",
    "    \n",
    "    return detections"
   ]
  }
 ],
 "metadata": {
  "kernelspec": {
   "display_name": "Python 3 (ipykernel)",
   "language": "python",
   "name": "python3"
  },
  "language_info": {
   "codemirror_mode": {
    "name": "ipython",
    "version": 3
   },
   "file_extension": ".py",
   "mimetype": "text/x-python",
   "name": "python",
   "nbconvert_exporter": "python",
   "pygments_lexer": "ipython3",
   "version": "3.12.0"
  }
 },
 "nbformat": 4,
 "nbformat_minor": 5
}
